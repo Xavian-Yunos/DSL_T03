{
  "nbformat": 4,
  "nbformat_minor": 0,
  "metadata": {
    "colab": {
      "provenance": [],
      "include_colab_link": true
    },
    "kernelspec": {
      "name": "python3",
      "display_name": "Python 3"
    },
    "language_info": {
      "name": "python"
    }
  },
  "cells": [
    {
      "cell_type": "markdown",
      "metadata": {
        "id": "view-in-github",
        "colab_type": "text"
      },
      "source": [
        "<a href=\"https://colab.research.google.com/github/Xavian-Yunos/DSL_T03/blob/main/dsl_cmoda7_UART.ipynb\" target=\"_parent\"><img src=\"https://colab.research.google.com/assets/colab-badge.svg\" alt=\"Open In Colab\"/></a>"
      ]
    },
    {
      "cell_type": "code",
      "execution_count": null,
      "metadata": {
        "id": "wwKw5sGOmE-J"
      },
      "outputs": [],
      "source": [
        "!pip install git+https://github.com/pe8sutd/eda4u &> /dev/null\n",
        "!git clone https://github.com/pe8sutd/eda4u &> /dev/null\n",
        "%load_ext plugin"
      ]
    },
    {
      "cell_type": "markdown",
      "source": [],
      "metadata": {
        "id": "okGv-HZXqWFG"
      }
    },
    {
      "cell_type": "markdown",
      "source": [
        "---\n",
        "# Design steps:\n",
        "1. Create a new Vivado Project\n",
        "— Use Basys3 Board\n",
        "2. Create Constraint file\n",
        "— Select Switches, Buttons, Segments, etc to be used\n",
        "3. Create Design Source\n",
        "— Input Verilog code\n",
        "4. Create Simulation file\n",
        "— Input Testbench Code, set simulation file as top\n",
        "5. Run Simulation\n",
        "6. Program device"
      ],
      "metadata": {
        "id": "D4yJGCmSoZXq"
      }
    },
    {
      "cell_type": "markdown",
      "source": [
        "---\n",
        "#Code Breakdown\n",
        "The verilog program is divided into 3 main modules: the clocks, the 7-segment display, and the debouncer"
      ],
      "metadata": {
        "id": "cQ6kQuXDrXzN"
      }
    },
    {
      "cell_type": "markdown",
      "source": [
        "##Constraint File\n",
        "```\n",
        "## Clock signal\n",
        "set_property -dict { PACKAGE_PIN W5   IOSTANDARD LVCMOS33 } [get_ports clk]\n",
        "create_clock -add -name sys_clk_pin -period 10.00 -waveform {0 5} [get_ports clk]\n",
        "\n",
        "##7 Segment Display\n",
        "set_property -dict { PACKAGE_PIN W7   IOSTANDARD LVCMOS33 } [get_ports {seg[0]}]\n",
        "set_property -dict { PACKAGE_PIN W6   IOSTANDARD LVCMOS33 } [get_ports {seg[1]}]\n",
        "set_property -dict { PACKAGE_PIN U8   IOSTANDARD LVCMOS33 } [get_ports {seg[2]}]\n",
        "set_property -dict { PACKAGE_PIN V8   IOSTANDARD LVCMOS33 } [get_ports {seg[3]}]\n",
        "set_property -dict { PACKAGE_PIN U5   IOSTANDARD LVCMOS33 } [get_ports {seg[4]}]\n",
        "set_property -dict { PACKAGE_PIN V5   IOSTANDARD LVCMOS33 } [get_ports {seg[5]}]\n",
        "set_property -dict { PACKAGE_PIN U7   IOSTANDARD LVCMOS33 } [get_ports {seg[6]}]\n",
        "\n",
        "set_property -dict { PACKAGE_PIN U2   IOSTANDARD LVCMOS33 } [get_ports {an[0]}]\n",
        "set_property -dict { PACKAGE_PIN U4   IOSTANDARD LVCMOS33 } [get_ports {an[1]}]\n",
        "set_property -dict { PACKAGE_PIN V4   IOSTANDARD LVCMOS33 } [get_ports {an[2]}]\n",
        "set_property -dict { PACKAGE_PIN W4   IOSTANDARD LVCMOS33 } [get_ports {an[3]}]\n",
        "\n",
        "\n",
        "##Buttons\n",
        "set_property -dict { PACKAGE_PIN U18   IOSTANDARD LVCMOS33 } [get_ports btnC]\n",
        "set_property -dict { PACKAGE_PIN W19   IOSTANDARD LVCMOS33 } [get_ports btnL]\n",
        "set_property -dict { PACKAGE_PIN T17   IOSTANDARD LVCMOS33 } [get_ports btnR]\n",
        "\n",
        "\n",
        "## Configuration options, can be used for all designs\n",
        "set_property CONFIG_VOLTAGE 3.3 [current_design]\n",
        "set_property CFGBVS VCCO [current_design]\n",
        "\n",
        "## SPI configuration mode options for QSPI boot, can be used for all designs\n",
        "set_property BITSTREAM.GENERAL.COMPRESS TRUE [current_design]\n",
        "set_property BITSTREAM.CONFIG.CONFIGRATE 33 [current_design]\n",
        "set_property CONFIG_MODE SPIx4 [current_design]\n",
        "```"
      ],
      "metadata": {
        "id": "e0BXcRLPUFPz"
      }
    },
    {
      "cell_type": "markdown",
      "source": [
        "---\n",
        "#Verilog Code:"
      ],
      "metadata": {
        "id": "nX5PoZzimL4b"
      }
    },
    {
      "cell_type": "markdown",
      "source": [
        "###Stopwatch Testbench"
      ],
      "metadata": {
        "id": "Q033A04FmZ4T"
      }
    },
    {
      "cell_type": "markdown",
      "source": [
        "---\n",
        "\n",
        "#Simulation"
      ],
      "metadata": {
        "id": "N4SzoFn5m4kH"
      }
    },
    {
      "cell_type": "markdown",
      "source": [
        "---\n",
        "#Video\n",
        "\n"
      ],
      "metadata": {
        "id": "KqukFU51qBhI"
      }
    },
    {
      "cell_type": "markdown",
      "source": [
        "---\n",
        "#Challenges\n"
      ],
      "metadata": {
        "id": "7RuaVWfKYDaH"
      }
    },
    {
      "cell_type": "markdown",
      "source": [
        "---\n",
        "#AI Usage"
      ],
      "metadata": {
        "id": "9nehcA8RaHwe"
      }
    }
  ]
}